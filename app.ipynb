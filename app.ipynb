{
 "cells": [
  {
   "cell_type": "code",
   "execution_count": null,
   "id": "086286ed",
   "metadata": {},
   "outputs": [],
   "source": [
    "import streamlit as st\n",
    "from PIL import Image\n",
    "import pandas as pd\n",
    "import numpy as np\n",
    "import pickle  # Import joblib to load the pre-trained model\n",
    "\n",
    "def main():\n",
    "    st.markdown(\"<h1 style='text-align: center; color: #15F4F4; text-decoration:underline;'>Bankruptcy Prevention</h1>\", unsafe_allow_html=True)\n",
    "    image = Image.open('bank.jpg')\n",
    "    st.sidebar.image(image, width=300)\n",
    "\n",
    "if __name__ == \"__main__\":\n",
    "    main()\n",
    "\n",
    "# Load the pre-trained model\n",
    "with open(\"model_SVM\", \"rb\") as file:\n",
    "    model = pickle.load(file)\n",
    "\n",
    "training_feature_names = ['management_risk', 'financial_flexibility', 'credibility', 'competitiveness']\n",
    "\n",
    "# Function to make predictions\n",
    "def predict_bankruptcy(training_feature_names):\n",
    "    # Ensure the features have the same order as when you trained the model\n",
    "    prediction = model.predict(training_feature_names)\n",
    "    return prediction\n",
    "\n",
    "# Your input form\n",
    "st.sidebar.title(\"Predict Bankruptcy\")\n",
    "management_risk = st.number_input(\"Management Risk\", min_value=0.0, max_value=1.0, step=0.01)\n",
    "financial_flexibility = st.number_input(\"Financial Flexibility\", min_value=0.0, max_value=1.0, step=0.01)\n",
    "credibility = st.number_input(\"Credibility\", min_value=0.0, max_value=1.0, step=0.01)\n",
    "competitiveness = st.number_input(\"Competitiveness\", min_value=0.0, max_value=1.0, step=0.01)\n",
    "\n",
    "if st.button(\"Predict\"):\n",
    "    # Create a DataFrame from user input\n",
    "    user_input = pd.DataFrame({\n",
    "        ' management_risk': [management_risk],\n",
    "        ' financial_flexibility': [financial_flexibility],\n",
    "        ' credibility': [credibility],\n",
    "        ' competitiveness': [competitiveness]\n",
    "    })\n",
    "\n",
    "\n",
    "    # Make a prediction\n",
    "    prediction = predict_bankruptcy(user_input)\n",
    "\n",
    "    # Display the result\n",
    "    if prediction == 0:\n",
    "        st.subheader(\"Business is likely to go bankrupt.\")\n",
    "        image = Image.open('bankrupt.png')\n",
    "        st.image(image, width=300)\n",
    "    else:\n",
    "        st.subheader(\"Business is likely to survive.\")\n",
    "        image = Image.open('nonbankrupt1.jpg')\n",
    "        st.image(image, width=300)"
   ]
  },
  {
   "cell_type": "code",
   "execution_count": 13,
   "id": "d9a1f757",
   "metadata": {},
   "outputs": [
    {
     "name": "stdout",
     "output_type": "stream",
     "text": [
      " Volume in drive C is Windows\n",
      " Volume Serial Number is 32A5-368C\n",
      "\n",
      " Directory of C:\\Users\\MADHU\\bankruptcy_project\n",
      "\n",
      "15-10-2023  17:12    <DIR>          .\n",
      "15-10-2023  12:43    <DIR>          ..\n",
      "15-10-2023  17:07    <DIR>          .ipynb_checkpoints\n",
      "15-10-2023  17:10             9,750 bank logo.jpg\n",
      "12-10-2023  11:23             7,510 bankruptcy-prevention (1) (1).csv\n",
      "12-10-2023  14:14         1,424,110 Bankrupt-Prevention.ipynb\n",
      "12-10-2023  12:00             2,677 model_poly.pkl\n",
      "15-10-2023  17:12             1,708 model_SVM.unknown\n",
      "15-10-2023  17:11             7,009 Untitled.ipynb\n",
      "               6 File(s)      1,452,764 bytes\n",
      "               3 Dir(s)  351,102,984,192 bytes free\n"
     ]
    }
   ],
   "source": [
    "ls"
   ]
  },
  {
   "cell_type": "code",
   "execution_count": 1,
   "id": "0937aece",
   "metadata": {},
   "outputs": [],
   "source": [
    "import streamlit as st\n",
    "from PIL import Image\n",
    "import pandas as pd\n",
    "import numpy as np\n",
    "import pickle  # Import joblib to load the pre-trained model"
   ]
  },
  {
   "cell_type": "code",
   "execution_count": 14,
   "id": "b1b05c3d",
   "metadata": {},
   "outputs": [],
   "source": [
    "def main():\n",
    "    st.markdown(\"<h1 style='text-align: center; color: #15F4F4; text-decoration:underline;'>Bankruptcy Prevention</h1>\", unsafe_allow_html=True)\n",
    "    image = Image.open('bank logo.jpg')\n",
    "    st.sidebar.image(image, width=300)\n",
    "\n",
    "if __name__ == \"__main__\":\n",
    "    main()\n"
   ]
  },
  {
   "cell_type": "code",
   "execution_count": 15,
   "id": "fb98a721",
   "metadata": {},
   "outputs": [],
   "source": [
    "# Load the pre-trained model\n",
    "with open(\"model_SVM.unknown\", \"rb\") as file:\n",
    "    model = pickle.load(file)\n",
    "\n",
    "training_feature_names = ['management_risk', 'financial_flexibility', 'credibility', 'competitiveness']\n"
   ]
  },
  {
   "cell_type": "code",
   "execution_count": 16,
   "id": "17c71a47",
   "metadata": {},
   "outputs": [],
   "source": [
    "# Function to make predictions\n",
    "def predict_bankruptcy(training_feature_names):\n",
    "    # Ensure the features have the same order as when you trained the model\n",
    "    prediction = model.predict(training_feature_names)\n",
    "    return prediction\n"
   ]
  },
  {
   "cell_type": "code",
   "execution_count": 30,
   "id": "dcd4a4a1",
   "metadata": {},
   "outputs": [],
   "source": [
    "# Your input form\n",
    "st.sidebar.title(\"Predict Bankruptcy\")\n",
    "management_risk = st.number_input(\"Management Risk\", min_value=0.0, max_value=1.0, step=0.01)\n",
    "financial_flexibility = st.number_input(\"Financial Flexibility\", min_value=0.0, max_value=1.0, step=0.01)\n",
    "credibility = st.number_input(\"Credibility\", min_value=0.0, max_value=1.0, step=0.01)\n",
    "competitiveness = st.number_input(\"Competitiveness\", min_value=0.0, max_value=1.0, step=0.01)\n",
    "\n",
    "if st.button(\"Predict\"):\n",
    "    # Create a DataFrame from user input\n",
    "    user_input = pd.DataFrame({\n",
    "        ' management_risk': [management_risk],\n",
    "        ' financial_flexibility': [financial_flexibility],\n",
    "        ' credibility': [credibility],\n",
    "        ' competitiveness': [competitiveness]\n",
    "    })\n",
    "\n",
    "\n",
    "    # Make a prediction\n",
    "    prediction = predict_bankruptcy(user_input)\n",
    "\n",
    "    # Display the result\n",
    "    if prediction == 0:\n",
    "        st.subheader(\"Business is likely to go bankrupt.\")\n",
    "        image = Image.open('bankrupt.png')\n",
    "        st.image(image, width=300)\n",
    "    else:\n",
    "        st.subheader(\"Business is likely to survive.\")\n",
    "        image = Image.open('nonbankrupt1.jpg')\n",
    "        st.image(image, width=300)"
   ]
  },
  {
   "cell_type": "code",
   "execution_count": null,
   "id": "bb4c8ba0",
   "metadata": {},
   "outputs": [],
   "source": []
  }
 ],
 "metadata": {
  "kernelspec": {
   "display_name": "Python 3 (ipykernel)",
   "language": "python",
   "name": "python3"
  },
  "language_info": {
   "codemirror_mode": {
    "name": "ipython",
    "version": 3
   },
   "file_extension": ".py",
   "mimetype": "text/x-python",
   "name": "python",
   "nbconvert_exporter": "python",
   "pygments_lexer": "ipython3",
   "version": "3.10.9"
  }
 },
 "nbformat": 4,
 "nbformat_minor": 5
}
